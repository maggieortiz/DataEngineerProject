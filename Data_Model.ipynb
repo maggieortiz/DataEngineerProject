{
 "cells": [
  {
   "cell_type": "markdown",
   "metadata": {},
   "source": [
    "## Data Model Descriptions"
   ]
  },
  {
   "cell_type": "code",
   "execution_count": 2,
   "metadata": {},
   "outputs": [
    {
     "data": {
      "text/plain": [
       "(40, 7)"
      ]
     },
     "execution_count": 2,
     "metadata": {},
     "output_type": "execute_result"
    }
   ],
   "source": [
    "import pandas as pd \n",
    "import numpy as np \n",
    "\n",
    "#import Disaster Data 1900 - 2021\n",
    "pd_dm = pd.read_csv('C:\\\\Users\\\\msbar\\\\Data Engineering Final Project\\\\data\\\\Data Model Information - Sheet1.csv')\n",
    "pd_dm.shape"
   ]
  },
  {
   "cell_type": "code",
   "execution_count": 3,
   "metadata": {},
   "outputs": [
    {
     "data": {
      "text/html": [
       "<div>\n",
       "<style scoped>\n",
       "    .dataframe tbody tr th:only-of-type {\n",
       "        vertical-align: middle;\n",
       "    }\n",
       "\n",
       "    .dataframe tbody tr th {\n",
       "        vertical-align: top;\n",
       "    }\n",
       "\n",
       "    .dataframe thead th {\n",
       "        text-align: right;\n",
       "    }\n",
       "</style>\n",
       "<table border=\"1\" class=\"dataframe\">\n",
       "  <thead>\n",
       "    <tr style=\"text-align: right;\">\n",
       "      <th></th>\n",
       "      <th>Table Name</th>\n",
       "      <th>Column Name</th>\n",
       "      <th>Original data source column</th>\n",
       "      <th>Data Type</th>\n",
       "      <th>Constraint</th>\n",
       "      <th>Example</th>\n",
       "      <th>Source</th>\n",
       "    </tr>\n",
       "  </thead>\n",
       "  <tbody>\n",
       "    <tr>\n",
       "      <th>0</th>\n",
       "      <td>surfacetemp</td>\n",
       "      <td>year</td>\n",
       "      <td>dt</td>\n",
       "      <td>int</td>\n",
       "      <td>NOT NULL</td>\n",
       "      <td>NaN</td>\n",
       "      <td>NaN</td>\n",
       "    </tr>\n",
       "    <tr>\n",
       "      <th>1</th>\n",
       "      <td>surfacetemp</td>\n",
       "      <td>month</td>\n",
       "      <td>dt</td>\n",
       "      <td>int</td>\n",
       "      <td>NaN</td>\n",
       "      <td>NaN</td>\n",
       "      <td>NaN</td>\n",
       "    </tr>\n",
       "    <tr>\n",
       "      <th>2</th>\n",
       "      <td>surfacetemp</td>\n",
       "      <td>avg_temperature</td>\n",
       "      <td>AverageTemperature</td>\n",
       "      <td>FLOAT</td>\n",
       "      <td>NaN</td>\n",
       "      <td>NaN</td>\n",
       "      <td>NaN</td>\n",
       "    </tr>\n",
       "    <tr>\n",
       "      <th>3</th>\n",
       "      <td>surfacetemp</td>\n",
       "      <td>avg_temperature_uncertainty</td>\n",
       "      <td>AverageTemperatureUncertainty</td>\n",
       "      <td>FLOAT</td>\n",
       "      <td>NaN</td>\n",
       "      <td>NaN</td>\n",
       "      <td>NaN</td>\n",
       "    </tr>\n",
       "    <tr>\n",
       "      <th>4</th>\n",
       "      <td>surfacetemp</td>\n",
       "      <td>country</td>\n",
       "      <td>Country</td>\n",
       "      <td>varchar</td>\n",
       "      <td>NOT NULL</td>\n",
       "      <td>NaN</td>\n",
       "      <td>NaN</td>\n",
       "    </tr>\n",
       "  </tbody>\n",
       "</table>\n",
       "</div>"
      ],
      "text/plain": [
       "    Table Name                  Column Name   Original data source column   \\\n",
       "0  surfacetemp                         year                             dt   \n",
       "1  surfacetemp                        month                             dt   \n",
       "2  surfacetemp              avg_temperature             AverageTemperature   \n",
       "3  surfacetemp  avg_temperature_uncertainty  AverageTemperatureUncertainty   \n",
       "4  surfacetemp                      country                        Country   \n",
       "\n",
       "  Data Type Constraint  Example  Source   \n",
       "0       int   NOT NULL      NaN      NaN  \n",
       "1       int        NaN      NaN      NaN  \n",
       "2     FLOAT        NaN      NaN      NaN  \n",
       "3     FLOAT        NaN      NaN      NaN  \n",
       "4   varchar   NOT NULL      NaN      NaN  "
      ]
     },
     "execution_count": 3,
     "metadata": {},
     "output_type": "execute_result"
    }
   ],
   "source": [
    "pd_dm.head()"
   ]
  },
  {
   "cell_type": "code",
   "execution_count": 6,
   "metadata": {},
   "outputs": [
    {
     "data": {
      "text/plain": [
       "varchar          19\n",
       "FLOAT            12\n",
       "int               7\n",
       "varchar(5000)     2\n",
       "Name: Data Type, dtype: int64"
      ]
     },
     "execution_count": 6,
     "metadata": {},
     "output_type": "execute_result"
    }
   ],
   "source": [
    "# Find what portion of our data is each data type\n",
    "pd_dm['Data Type'].value_counts()"
   ]
  },
  {
   "cell_type": "code",
   "execution_count": 10,
   "metadata": {},
   "outputs": [
    {
     "data": {
      "text/html": [
       "<div>\n",
       "<style scoped>\n",
       "    .dataframe tbody tr th:only-of-type {\n",
       "        vertical-align: middle;\n",
       "    }\n",
       "\n",
       "    .dataframe tbody tr th {\n",
       "        vertical-align: top;\n",
       "    }\n",
       "\n",
       "    .dataframe thead th {\n",
       "        text-align: right;\n",
       "    }\n",
       "</style>\n",
       "<table border=\"1\" class=\"dataframe\">\n",
       "  <thead>\n",
       "    <tr style=\"text-align: right;\">\n",
       "      <th></th>\n",
       "      <th>Table Name</th>\n",
       "      <th>Column Name</th>\n",
       "      <th>Original data source column</th>\n",
       "      <th>Data Type</th>\n",
       "      <th>Constraint</th>\n",
       "      <th>Example</th>\n",
       "      <th>Source</th>\n",
       "    </tr>\n",
       "  </thead>\n",
       "  <tbody>\n",
       "    <tr>\n",
       "      <th>0</th>\n",
       "      <td>surfacetemp</td>\n",
       "      <td>year</td>\n",
       "      <td>dt</td>\n",
       "      <td>int</td>\n",
       "      <td>NOT NULL</td>\n",
       "      <td>NaN</td>\n",
       "      <td>NaN</td>\n",
       "    </tr>\n",
       "    <tr>\n",
       "      <th>4</th>\n",
       "      <td>surfacetemp</td>\n",
       "      <td>country</td>\n",
       "      <td>Country</td>\n",
       "      <td>varchar</td>\n",
       "      <td>NOT NULL</td>\n",
       "      <td>NaN</td>\n",
       "      <td>NaN</td>\n",
       "    </tr>\n",
       "    <tr>\n",
       "      <th>5</th>\n",
       "      <td>population</td>\n",
       "      <td>country</td>\n",
       "      <td>Country Name</td>\n",
       "      <td>varchar</td>\n",
       "      <td>NOT NULL</td>\n",
       "      <td>NaN</td>\n",
       "      <td>NaN</td>\n",
       "    </tr>\n",
       "    <tr>\n",
       "      <th>6</th>\n",
       "      <td>population</td>\n",
       "      <td>year</td>\n",
       "      <td>Year</td>\n",
       "      <td>int</td>\n",
       "      <td>NOT NULL</td>\n",
       "      <td>NaN</td>\n",
       "      <td>NaN</td>\n",
       "    </tr>\n",
       "    <tr>\n",
       "      <th>12</th>\n",
       "      <td>naturaldisaster_info</td>\n",
       "      <td>year</td>\n",
       "      <td>year</td>\n",
       "      <td>varchar</td>\n",
       "      <td>NOT NULL</td>\n",
       "      <td>NaN</td>\n",
       "      <td>NaN</td>\n",
       "    </tr>\n",
       "    <tr>\n",
       "      <th>13</th>\n",
       "      <td>naturaldisaster_info</td>\n",
       "      <td>country</td>\n",
       "      <td>country</td>\n",
       "      <td>varchar</td>\n",
       "      <td>NOT NULL</td>\n",
       "      <td>NaN</td>\n",
       "      <td>NaN</td>\n",
       "    </tr>\n",
       "    <tr>\n",
       "      <th>27</th>\n",
       "      <td>naturaldisaster_damage</td>\n",
       "      <td>year</td>\n",
       "      <td>year</td>\n",
       "      <td>int</td>\n",
       "      <td>NOT NULL</td>\n",
       "      <td>NaN</td>\n",
       "      <td>NaN</td>\n",
       "    </tr>\n",
       "    <tr>\n",
       "      <th>28</th>\n",
       "      <td>naturaldisaster_damage</td>\n",
       "      <td>country</td>\n",
       "      <td>country</td>\n",
       "      <td>varchar</td>\n",
       "      <td>NOT NULL</td>\n",
       "      <td>NaN</td>\n",
       "      <td>NaN</td>\n",
       "    </tr>\n",
       "  </tbody>\n",
       "</table>\n",
       "</div>"
      ],
      "text/plain": [
       "                Table Name Column Name Original data source column  Data Type  \\\n",
       "0              surfacetemp        year                           dt       int   \n",
       "4              surfacetemp     country                      Country   varchar   \n",
       "5               population     country                 Country Name   varchar   \n",
       "6               population        year                         Year       int   \n",
       "12    naturaldisaster_info        year                         year   varchar   \n",
       "13    naturaldisaster_info     country                      country   varchar   \n",
       "27  naturaldisaster_damage        year                         year       int   \n",
       "28  naturaldisaster_damage     country                      country   varchar   \n",
       "\n",
       "   Constraint  Example  Source   \n",
       "0    NOT NULL      NaN      NaN  \n",
       "4    NOT NULL      NaN      NaN  \n",
       "5    NOT NULL      NaN      NaN  \n",
       "6    NOT NULL      NaN      NaN  \n",
       "12   NOT NULL      NaN      NaN  \n",
       "13   NOT NULL      NaN      NaN  \n",
       "27   NOT NULL      NaN      NaN  \n",
       "28   NOT NULL      NaN      NaN  "
      ]
     },
     "execution_count": 10,
     "metadata": {},
     "output_type": "execute_result"
    }
   ],
   "source": [
    "#List variables with constraints\n",
    "pd_dm[pd_dm['Constraint'].isna() == 0]"
   ]
  },
  {
   "cell_type": "code",
   "execution_count": null,
   "metadata": {},
   "outputs": [],
   "source": []
  }
 ],
 "metadata": {
  "kernelspec": {
   "display_name": "Python 3",
   "language": "python",
   "name": "python3"
  },
  "language_info": {
   "codemirror_mode": {
    "name": "ipython",
    "version": 3
   },
   "file_extension": ".py",
   "mimetype": "text/x-python",
   "name": "python",
   "nbconvert_exporter": "python",
   "pygments_lexer": "ipython3",
   "version": "3.8.3"
  }
 },
 "nbformat": 4,
 "nbformat_minor": 4
}
