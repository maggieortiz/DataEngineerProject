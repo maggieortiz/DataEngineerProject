{
 "cells": [
  {
   "cell_type": "markdown",
   "metadata": {},
   "source": [
    "## ETL Run Notebook  - Run scripts & Test w/ sql queries"
   ]
  },
  {
   "cell_type": "markdown",
   "metadata": {},
   "source": [
    "### Run create_table.py to see if tables can be created property\n",
    "\n",
    "- Make sure you open a RedShift cluster and make it publicly accessible"
   ]
  },
  {
   "cell_type": "code",
   "execution_count": 8,
   "metadata": {},
   "outputs": [
    {
     "name": "stdout",
     "output_type": "stream",
     "text": [
      "Collecting psycopg2\n",
      "  Downloading psycopg2-2.9.3-cp38-cp38-win_amd64.whl (1.1 MB)\n",
      "Installing collected packages: psycopg2\n",
      "Successfully installed psycopg2-2.9.3\n",
      "Note: you may need to restart the kernel to use updated packages.\n"
     ]
    }
   ],
   "source": [
    " pip install psycopg2"
   ]
  },
  {
   "cell_type": "code",
   "execution_count": 1,
   "metadata": {
    "scrolled": true
   },
   "outputs": [
    {
     "name": "stdout",
     "output_type": "stream",
     "text": [
      "CREATE TABLE IF NOT EXISTS surfacetemp(\n",
      "        surfacetemp_id int PRIMARY KEY NOT NULL,\n",
      "        year int,\n",
      "        month int,\n",
      "        country varchar,\n",
      "        avg_temperature FLOAT, \n",
      "        avg_temperature_uncertainty FLOAT\n",
      "        );\n",
      "        \n",
      "CREATE TABLE IF NOT EXISTS co2emssion(\n",
      "        co2emission_id int PRIMARY KEY NOT NULL,\n",
      "        country varchar,\n",
      "        code varchar(3),\n",
      "        year int, \n",
      "        co2emission BIGINT\n",
      "                );\n",
      "        \n",
      "CREATE TABLE IF NOT EXISTS population(\n",
      "        population_id int PRIMARY KEY NOT NULL,\n",
      "        country varchar,\n",
      "        year int, \n",
      "        population int\n",
      "        );\n",
      "        \n",
      "CREATE TABLE IF NOT EXISTS naturaldisaster_info(\n",
      "        naturaldisaster_id int PRIMARY KEY NOT NULL, \n",
      "        year int, \n",
      "        country varchar,\n",
      "        region varchar,\n",
      "        location varchar,\n",
      "        seq int, \n",
      "        glide varchar, \n",
      "        gisaster_group varchar,\n",
      "        gisaster_subgroup varchar,\n",
      "        diaster_type varchar, \n",
      "        disaster_subtype varchar,\n",
      "        disaster_subsubtype varchar,\n",
      "        event_name varchar,\n",
      "        geo_locations varchar, \n",
      "        latitude FLOAT,\n",
      "        longitude FLOAT );\n",
      "         \n",
      "CREATE TABLE IF NOT EXISTS naturaldisaster_damage(\n",
      "        naturaldisaster_id int PRIMARY KEY NOT NULL, \n",
      "        year int, \n",
      "        country varchar,\n",
      "        event_name varchar,\n",
      "        total_deaths FLOAT,\n",
      "        no_injured FLOAT,\n",
      "        no_affectED FLOAT,\n",
      "        no_homeless FLOAT,\n",
      "        total_affected FLOAT,\n",
      "        insured_damages FLOAT,\n",
      "        total_damages FLOAT,\n",
      "        cpi FLOAT,\n",
      "        aid_contribution FLOAT,\n",
      "        OFDA_response varchar);\n",
      "         \n"
     ]
    }
   ],
   "source": [
    "import psycopg2 \n",
    "\n",
    "try:\n",
    "    %run create_table.py \n",
    "except Exception as e:\n",
    "    print(e)"
   ]
  },
  {
   "cell_type": "code",
   "execution_count": 2,
   "metadata": {},
   "outputs": [
    {
     "ename": "InternalError_",
     "evalue": "Cannot COPY into nonexistent table surfacetemp_stage\n",
     "output_type": "error",
     "traceback": [
      "\u001b[1;31m---------------------------------------------------------------------------\u001b[0m",
      "\u001b[1;31mInternalError_\u001b[0m                            Traceback (most recent call last)",
      "\u001b[1;32m~\\Data Engineering Final Project\\DEproject\\etl.py\u001b[0m in \u001b[0;36m<module>\u001b[1;34m\u001b[0m\n\u001b[0;32m     32\u001b[0m \u001b[1;33m\u001b[0m\u001b[0m\n\u001b[0;32m     33\u001b[0m \u001b[1;32mif\u001b[0m \u001b[0m__name__\u001b[0m \u001b[1;33m==\u001b[0m \u001b[1;34m\"__main__\"\u001b[0m\u001b[1;33m:\u001b[0m\u001b[1;33m\u001b[0m\u001b[1;33m\u001b[0m\u001b[0m\n\u001b[1;32m---> 34\u001b[1;33m     \u001b[0mmain\u001b[0m\u001b[1;33m(\u001b[0m\u001b[1;33m)\u001b[0m\u001b[1;33m\u001b[0m\u001b[1;33m\u001b[0m\u001b[0m\n\u001b[0m",
      "\u001b[1;32m~\\Data Engineering Final Project\\DEproject\\etl.py\u001b[0m in \u001b[0;36mmain\u001b[1;34m()\u001b[0m\n\u001b[0;32m     25\u001b[0m     \u001b[0mcur\u001b[0m \u001b[1;33m=\u001b[0m \u001b[0mconn\u001b[0m\u001b[1;33m.\u001b[0m\u001b[0mcursor\u001b[0m\u001b[1;33m(\u001b[0m\u001b[1;33m)\u001b[0m\u001b[1;33m\u001b[0m\u001b[1;33m\u001b[0m\u001b[0m\n\u001b[0;32m     26\u001b[0m \u001b[1;33m\u001b[0m\u001b[0m\n\u001b[1;32m---> 27\u001b[1;33m     \u001b[0mload_staging_tables\u001b[0m\u001b[1;33m(\u001b[0m\u001b[0mcur\u001b[0m\u001b[1;33m,\u001b[0m \u001b[0mconn\u001b[0m\u001b[1;33m)\u001b[0m\u001b[1;33m\u001b[0m\u001b[1;33m\u001b[0m\u001b[0m\n\u001b[0m\u001b[0;32m     28\u001b[0m     \u001b[0minsert_tables\u001b[0m\u001b[1;33m(\u001b[0m\u001b[0mcur\u001b[0m\u001b[1;33m,\u001b[0m \u001b[0mconn\u001b[0m\u001b[1;33m)\u001b[0m\u001b[1;33m\u001b[0m\u001b[1;33m\u001b[0m\u001b[0m\n\u001b[0;32m     29\u001b[0m \u001b[1;33m\u001b[0m\u001b[0m\n",
      "\u001b[1;32m~\\Data Engineering Final Project\\DEproject\\etl.py\u001b[0m in \u001b[0;36mload_staging_tables\u001b[1;34m(cur, conn)\u001b[0m\n\u001b[0;32m      8\u001b[0m \u001b[1;32mdef\u001b[0m \u001b[0mload_staging_tables\u001b[0m\u001b[1;33m(\u001b[0m\u001b[0mcur\u001b[0m\u001b[1;33m,\u001b[0m \u001b[0mconn\u001b[0m\u001b[1;33m)\u001b[0m\u001b[1;33m:\u001b[0m\u001b[1;33m\u001b[0m\u001b[1;33m\u001b[0m\u001b[0m\n\u001b[0;32m      9\u001b[0m     \u001b[1;32mfor\u001b[0m \u001b[0mquery\u001b[0m \u001b[1;32min\u001b[0m \u001b[0mcopy_table_queries\u001b[0m\u001b[1;33m:\u001b[0m\u001b[1;33m\u001b[0m\u001b[1;33m\u001b[0m\u001b[0m\n\u001b[1;32m---> 10\u001b[1;33m         \u001b[0mcur\u001b[0m\u001b[1;33m.\u001b[0m\u001b[0mexecute\u001b[0m\u001b[1;33m(\u001b[0m\u001b[0mquery\u001b[0m\u001b[1;33m)\u001b[0m\u001b[1;33m\u001b[0m\u001b[1;33m\u001b[0m\u001b[0m\n\u001b[0m\u001b[0;32m     11\u001b[0m         \u001b[0mconn\u001b[0m\u001b[1;33m.\u001b[0m\u001b[0mcommit\u001b[0m\u001b[1;33m(\u001b[0m\u001b[1;33m)\u001b[0m\u001b[1;33m\u001b[0m\u001b[1;33m\u001b[0m\u001b[0m\n\u001b[0;32m     12\u001b[0m \u001b[1;33m\u001b[0m\u001b[0m\n",
      "\u001b[1;31mInternalError_\u001b[0m: Cannot COPY into nonexistent table surfacetemp_stage\n"
     ]
    }
   ],
   "source": [
    "try:\n",
    "    %run etl.py \n",
    "except Exception as e:\n",
    "    print(e)"
   ]
  },
  {
   "cell_type": "markdown",
   "metadata": {},
   "source": [
    "#### Test tables with some Queries"
   ]
  },
  {
   "cell_type": "code",
   "execution_count": null,
   "metadata": {},
   "outputs": [],
   "source": []
  }
 ],
 "metadata": {
  "kernelspec": {
   "display_name": "Python 3",
   "language": "python",
   "name": "python3"
  },
  "language_info": {
   "codemirror_mode": {
    "name": "ipython",
    "version": 3
   },
   "file_extension": ".py",
   "mimetype": "text/x-python",
   "name": "python",
   "nbconvert_exporter": "python",
   "pygments_lexer": "ipython3",
   "version": "3.8.3"
  }
 },
 "nbformat": 4,
 "nbformat_minor": 4
}
